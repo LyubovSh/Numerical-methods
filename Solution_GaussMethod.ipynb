{
  "cells": [
    {
      "cell_type": "code",
      "execution_count": 2,
      "metadata": {
        "trusted": true
      },
      "outputs": [],
      "source": [
        "import copy\n",
        "import numpy as np\n",
        "from matplotlib import pyplot as plt\n"
      ]
    },
    {
      "cell_type": "markdown",
      "metadata": {},
      "source": [
        "### Задание 3.2\n",
        "#### Дана разреженная матрица A. Найти число обусловленности матрицы.\n",
        "$$ \n",
        "A = \n",
        "\\begin{pmatrix}\n",
        "a & 0 & 0 & \\ldots & 0 & 0 & \\ldots & 0 & 0 & b\\\\\n",
        "b & a & 0 & \\ldots & 0 & 0 & \\ldots & 0 & b & 0\\\\\n",
        "b & b & a & \\ldots & 0 & 0 & \\ldots & b & 0 & 0\\\\\n",
        "\\vdots & \\vdots & \\vdots & \\vdots & \\vdots & \\vdots & \\vdots & \\vdots & \\vdots & \\vdots\\\\\n",
        "b & b & b & \\ldots & a & b & \\ldots & 0 & 0 & 0 \\\\\n",
        "b & b & b & \\ldots & b & a & \\ldots & 0 & 0 & 0 \\\\\n",
        "\\vdots & \\vdots & \\vdots & \\vdots & \\vdots & \\vdots & \\vdots & \\vdots & \\vdots & \\vdots\\\\\n",
        "b & b & b & \\ldots & 0 & 0 & \\ldots & a & 0 & 0\\\\\n",
        "b & b & 0 & \\ldots & 0 & 0 & \\ldots & 0 & a & 0\\\\\n",
        "b & 0 & 0 & \\ldots & 0 & 0 & \\ldots & 0 & 0 & a\\\\\n",
        "\\end{pmatrix} \n",
        "$$\n",
        "#### где $ a = mN + \\frac{m}{N} $ , b = $ N $, N = 34 - номер варианта, m = 20 - порядок матрицы А "
      ]
    },
    {
      "cell_type": "code",
      "execution_count": 8,
      "metadata": {
        "trusted": true
      },
      "outputs": [],
      "source": [
        "MatrixSize = 20\n",
        "Variant = 34"
      ]
    },
    {
      "cell_type": "code",
      "execution_count": 9,
      "metadata": {
        "trusted": true
      },
      "outputs": [],
      "source": [
        "def GaussMethod_Updated(systemMatrix, values):\n",
        "    for i in range(0, (len(systemMatrix) + 1) // 2):\n",
        "        for Row in range(i + 1, len(systemMatrix)):\n",
        "            factor = -1 * systemMatrix[Row][i] / systemMatrix[i][i]\n",
        "            for Col in range(0, Row):\n",
        "                systemMatrix[Row][Col] = systemMatrix[Row][Col] + factor * systemMatrix[i][Col]\n",
        "                \n",
        "            for Col in range(len(systemMatrix) - 1 - i, len(systemMatrix)):\n",
        "                systemMatrix[Row][Col] = systemMatrix[Row][Col] + factor * systemMatrix[i][Col]\n",
        "\n",
        "            values[Row] = values[Row] + factor * values[i]\n",
        "            \n",
        "    return { 'System Matrix' : systemMatrix, 'Values' : values }\n",
        "\n",
        "def SolveGauss_Updated(systemMatrix, values):\n",
        "    X = [copy.deepcopy([0]) for i in range(0, len(systemMatrix))]\n",
        "    matrixesDict = GaussMethod_Updated(systemMatrix, values)\n",
        "\n",
        "    systemMatrix = matrixesDict['System Matrix']\n",
        "    values = matrixesDict['Values']\n",
        "    for i in range(len(systemMatrix) - 1, -1, -1):\n",
        "        tmpVal = 0\n",
        "        for j in range(i + 1, len(systemMatrix)):\n",
        "            tmpVal = tmpVal + systemMatrix[i][j] * X[j][0]\n",
        "        X[i][0] = (values[i][0] - tmpVal) / systemMatrix[i][i]\n",
        "        \n",
        "    return X"
      ]
    },
    {
      "cell_type": "markdown",
      "metadata": {},
      "source": [
        "#### 1. Задаём матрицу А как описано выше:"
      ]
    },
    {
      "cell_type": "code",
      "execution_count": 26,
      "metadata": {
        "trusted": true
      },
      "outputs": [
        {
          "name": "stdout",
          "output_type": "stream",
          "text": [
            "[[680.5882352941177, 0, 0, 0, 0, 0, 0, 0, 0, 0, 0, 0, 0, 0, 0, 0, 0, 0, 0, 34], [34, 680.5882352941177, 0, 0, 0, 0, 0, 0, 0, 0, 0, 0, 0, 0, 0, 0, 0, 0, 34, 0], [34, 34, 680.5882352941177, 0, 0, 0, 0, 0, 0, 0, 0, 0, 0, 0, 0, 0, 0, 34, 0, 0], [34, 34, 34, 680.5882352941177, 0, 0, 0, 0, 0, 0, 0, 0, 0, 0, 0, 0, 34, 0, 0, 0], [34, 34, 34, 34, 680.5882352941177, 0, 0, 0, 0, 0, 0, 0, 0, 0, 0, 34, 0, 0, 0, 0], [34, 34, 34, 34, 34, 680.5882352941177, 0, 0, 0, 0, 0, 0, 0, 0, 34, 0, 0, 0, 0, 0], [34, 34, 34, 34, 34, 34, 680.5882352941177, 0, 0, 0, 0, 0, 0, 34, 0, 0, 0, 0, 0, 0], [34, 34, 34, 34, 34, 34, 34, 680.5882352941177, 0, 0, 0, 0, 34, 0, 0, 0, 0, 0, 0, 0], [34, 34, 34, 34, 34, 34, 34, 34, 680.5882352941177, 0, 0, 34, 0, 0, 0, 0, 0, 0, 0, 0], [34, 34, 34, 34, 34, 34, 34, 34, 34, 680.5882352941177, 34, 0, 0, 0, 0, 0, 0, 0, 0, 0], [34, 34, 34, 34, 34, 34, 34, 34, 34, 34, 680.5882352941177, 0, 0, 0, 0, 0, 0, 0, 0, 0], [34, 34, 34, 34, 34, 34, 34, 34, 34, 0, 0, 680.5882352941177, 0, 0, 0, 0, 0, 0, 0, 0], [34, 34, 34, 34, 34, 34, 34, 34, 0, 0, 0, 0, 680.5882352941177, 0, 0, 0, 0, 0, 0, 0], [34, 34, 34, 34, 34, 34, 34, 0, 0, 0, 0, 0, 0, 680.5882352941177, 0, 0, 0, 0, 0, 0], [34, 34, 34, 34, 34, 34, 0, 0, 0, 0, 0, 0, 0, 0, 680.5882352941177, 0, 0, 0, 0, 0], [34, 34, 34, 34, 34, 0, 0, 0, 0, 0, 0, 0, 0, 0, 0, 680.5882352941177, 0, 0, 0, 0], [34, 34, 34, 34, 0, 0, 0, 0, 0, 0, 0, 0, 0, 0, 0, 0, 680.5882352941177, 0, 0, 0], [34, 34, 34, 0, 0, 0, 0, 0, 0, 0, 0, 0, 0, 0, 0, 0, 0, 680.5882352941177, 0, 0], [34, 34, 0, 0, 0, 0, 0, 0, 0, 0, 0, 0, 0, 0, 0, 0, 0, 0, 680.5882352941177, 0], [34, 0, 0, 0, 0, 0, 0, 0, 0, 0, 0, 0, 0, 0, 0, 0, 0, 0, 0, 680.5882352941177]]\n"
          ]
        }
      ],
      "source": [
        "def GetA(MatrixSize):\n",
        "    ans = []\n",
        "    for i in range(0, MatrixSize):\n",
        "        ans.append([])\n",
        "        for j in range(0, MatrixSize):\n",
        "            if (i == j):\n",
        "                ans[i].append(Variant * MatrixSize + MatrixSize / Variant)\n",
        "            elif ((MatrixSize - i - 1 == j) or (j < MatrixSize - i - 1) and j < i):\n",
        "                ans[i].append(Variant)\n",
        "            else:\n",
        "                ans[i].append(0)\n",
        "                \n",
        "    return ans\n",
        "\n",
        "def GetValues(ValuesSize):\n",
        "    return np.matmul(GetA(ValuesSize), np.array([[Variant] for i in range(0, ValuesSize)]))\n",
        "\n",
        "\n",
        "\n",
        "\n",
        "\n",
        "\n",
        "a=GetA(MatrixSize)\n",
        "print(a)"
      ]
    },
    {
      "cell_type": "markdown",
      "metadata": {},
      "source": [
        "#### 2. Проверим работоспособность написанного нами метода Гаусса с учетом нулевых элементов:\n",
        "#### Пусть $ b = A \\begin{pmatrix} 34 & 34 & 34 & 34 & 34 \\end{pmatrix}^{T} $\n",
        "#### Следовательно, для уравнения $ Ax = b $ имеем: $ x = \\begin{pmatrix} 34 & 34 & 34 & 34 & 34 \\end{pmatrix}^{T} $"
      ]
    },
    {
      "cell_type": "code",
      "execution_count": 11,
      "metadata": {
        "trusted": true
      },
      "outputs": [
        {
          "name": "stdout",
          "output_type": "stream",
          "text": [
            "Решение методом методом Гаусса с учетом нулевых элементов:  [[34.0], [34.0], [34.0], [34.0], [34.0]]\n"
          ]
        }
      ],
      "source": [
        "print('Решение методом методом Гаусса с учетом нулевых элементов: ', SolveGauss_Updated(GetA(5), GetValues(5)))"
      ]
    },
    {
      "cell_type": "markdown",
      "metadata": {},
      "source": [
        "#### 2. Получаем обраную матрицу для матрицы А, посредством решения методом LU со схемой частичного выбора уравнений $Ax_{i} = E_{i}$, где $ E_{i} $ - i-тый столбец матрицы E. \n",
        "#### $$ A^{-1} = \\begin{pmatrix} x_{1} & x_{2} & \\ldots & x_{19} & x_{20} \\end{pmatrix} $$"
      ]
    },
    {
      "cell_type": "code",
      "execution_count": 27,
      "metadata": {
        "trusted": true
      },
      "outputs": [],
      "source": [
        "def GetInverseMatrix(matrix):\n",
        "    values = [np.array(GetIdentityMatrix(len(matrix))[i])[np.newaxis].transpose() for i in range(0, len(matrix))]\n",
        "    inverseMatrix = []\n",
        "    for i in range(0, len(matrix)):\n",
        "        inverseMatrix.append(np.array(SolveGauss_Updated(matrix, values[i])).transpose()[0])\n",
        "        \n",
        "    return np.array(inverseMatrix).transpose()\n",
        "\n",
        "def GetIdentityMatrix(MatrixSize):\n",
        "    ans = []\n",
        "    for i in range(0, MatrixSize):\n",
        "        ans.append([])\n",
        "        for j in range(0, MatrixSize):\n",
        "            if (i == j):\n",
        "                ans[i].append(1)\n",
        "            else:\n",
        "                ans[i].append(0)\n",
        "                \n",
        "    return ans"
      ]
    },
    {
      "cell_type": "markdown",
      "metadata": {},
      "source": [
        "#### 3. Получаем число обусловленности матрицы А:"
      ]
    },
    {
      "cell_type": "code",
      "execution_count": 28,
      "metadata": {
        "trusted": true
      },
      "outputs": [],
      "source": [
        "def GetCond(matrix):\n",
        "    return np.linalg.norm(matrix) * np.linalg.norm(GetInverseMatrix(matrix))"
      ]
    },
    {
      "cell_type": "code",
      "execution_count": 29,
      "metadata": {
        "trusted": true
      },
      "outputs": [
        {
          "name": "stdout",
          "output_type": "stream",
          "text": [
            "Число обусловленности матрицы А: 20.174810116889063\n"
          ]
        }
      ],
      "source": [
        "print('Число обусловленности матрицы А:', GetCond(GetA(MatrixSize)))"
      ]
    },
    {
      "cell_type": "markdown",
      "metadata": {},
      "source": [
        "#### Вывод: Матрица А хорошо обусловлена, так как её число обусловленности не много больше 1, трудоемкость метода Гаусса = $\\approx \\frac{3}{2} n^{3} + n^{2} $, где n - порядок матрицы."
      ]
    },
    {
      "cell_type": "code",
      "execution_count": null,
      "metadata": {
        "trusted": true
      },
      "outputs": [],
      "source": []
    }
  ],
  "metadata": {
    "kernelspec": {
      "display_name": "Python (Pyodide)",
      "language": "python",
      "name": "python"
    },
    "language_info": {
      "codemirror_mode": {
        "name": "python",
        "version": 3
      },
      "file_extension": ".py",
      "mimetype": "text/x-python",
      "name": "python",
      "nbconvert_exporter": "python",
      "pygments_lexer": "ipython3",
      "version": "3.8"
    }
  },
  "nbformat": 4,
  "nbformat_minor": 4
}
