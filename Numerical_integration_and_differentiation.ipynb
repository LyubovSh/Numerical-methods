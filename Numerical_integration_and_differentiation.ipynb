{
 "cells": [
  {
   "cell_type": "markdown",
   "id": "457cfee2-6e66-4e86-a63a-ed9c3ed1883c",
   "metadata": {},
   "source": [
    "# Шестопалова Любовь"
   ]
  },
  {
   "cell_type": "markdown",
   "id": "e43f6b60-bd07-4016-9363-3a719f78d01e",
   "metadata": {},
   "source": [
    "## ЧИСЛЕННОЕ ИНТЕГРИРОВАНИЕ И  ДИФФЕРЕНЦИРОВАНИЕ"
   ]
  },
  {
   "cell_type": "markdown",
   "id": "1a3214a9-4915-43bc-bd7e-c88bdf1b0dc5",
   "metadata": {},
   "source": [
    "**Подключение библиотек**"
   ]
  },
  {
   "cell_type": "code",
   "execution_count": 172,
   "id": "d0cf2e20-8f4e-4b71-8267-91c9e5dc8716",
   "metadata": {},
   "outputs": [],
   "source": [
    "import numpy as np\n",
    "import matplotlib.pyplot as plt"
   ]
  },
  {
   "cell_type": "markdown",
   "id": "36efed59-80fd-4d91-b85f-95866674750c",
   "metadata": {},
   "source": [
    "## Задача 6.1. ***Вычислить  интеграл ${I=\\int_{a}^{b}f(x)dx}$ с точностью ${\\epsilon=10^{-6}}$ по формуле левых прямоугольников  и по формуле индивидуального варианта.***"
   ]
  },
  {
   "cell_type": "code",
   "execution_count": 175,
   "id": "43646e00-a979-49b0-b676-e9315025dff1",
   "metadata": {},
   "outputs": [],
   "source": [
    "epsilon=10**(-6)"
   ]
  },
  {
   "cell_type": "markdown",
   "id": "838c548b-9f2a-445a-ac23-e0c275bff31a",
   "metadata": {},
   "source": [
    "${I=\\int_{0}^{4}x \\cdot sinxdx}$"
   ]
  },
  {
   "cell_type": "markdown",
   "id": "0a9d4a88-eb05-4168-b9f7-eeffc46ca8af",
   "metadata": {},
   "source": [
    "***1. Вычислить интеграл ${I}$ аналитически.***"
   ]
  },
  {
   "cell_type": "markdown",
   "id": "ed000fd8-9da9-4bce-805b-a52439bfbef6",
   "metadata": {},
   "source": [
    "${I=\\int_{0}^{4}xsinxdx=-\\int_{0}^{4}xdcosx=-xcosx|_{0}^{4}+\\int_{0}^{4}cosxdx}=-4cos(4)+sinx|_{0}^{4}=-4cos(4)+sin(4) \\approx 1.857772$"
   ]
  },
  {
   "cell_type": "code",
   "execution_count": 180,
   "id": "a9d3a8b9-98c8-4465-9eea-0b6a2b3778d3",
   "metadata": {},
   "outputs": [
    {
     "name": "stdout",
     "output_type": "stream",
     "text": [
      "1.8577719881465193\n"
     ]
    }
   ],
   "source": [
    "accurate=-4*np.cos(4)+np.sin(4)\n",
    "print(accurate)"
   ]
  },
  {
   "cell_type": "markdown",
   "id": "693a2935-fa50-44fe-9bf6-cf6b869d0d36",
   "metadata": {},
   "source": [
    "***2. Составить программу, содержащую следующие разделы:***"
   ]
  },
  {
   "cell_type": "markdown",
   "id": "d39f7fd4-3b6d-47b9-a60f-35686eca73da",
   "metadata": {},
   "source": [
    "***a)процедуру-функцию, вычисляющую интеграл по составной квадратурной формуле левых прямоугольников ${I^h}$ с заданным шагом ${h}$.***"
   ]
  },
  {
   "cell_type": "markdown",
   "id": "14800c8f-1e67-47cd-8069-15f597589d7b",
   "metadata": {},
   "source": [
    "***Формула левых прямоугольников: ${S=h \\sum_{i=0}^{n-1}f(x_i)}, R=\\frac {M_1(b-a)}{2}h$***"
   ]
  },
  {
   "cell_type": "markdown",
   "id": "91642813-cf49-4f5e-9c8b-e2135763bd83",
   "metadata": {},
   "source": [
    "***${M_k=max_{i \\in [a, b]}}|f^{(k)}(x)|$***"
   ]
  },
  {
   "cell_type": "markdown",
   "id": "05a0ba57-d61a-4e12-bf20-622f284a168b",
   "metadata": {},
   "source": [
    "${f(x)=xsinx}$"
   ]
  },
  {
   "cell_type": "markdown",
   "id": "ec31b3d8-f753-476e-b314-95799491f895",
   "metadata": {},
   "source": [
    "${f^{'}(x)=sinx+xcosx}$"
   ]
  },
  {
   "cell_type": "markdown",
   "id": "dbbd017d-95c4-4f33-b61b-acee4b9ba318",
   "metadata": {},
   "source": [
    "${M_1 \\approx 3.0271}$"
   ]
  },
  {
   "cell_type": "code",
   "execution_count": 189,
   "id": "c86776ac-fe11-4a23-849a-a66d1b791338",
   "metadata": {},
   "outputs": [],
   "source": [
    "def f(x):\n",
    "    return x*np.sin(x)"
   ]
  },
  {
   "cell_type": "code",
   "execution_count": 191,
   "id": "06cd5699-e758-40c7-accf-3d9d0c387573",
   "metadata": {},
   "outputs": [],
   "source": [
    "a, b=0, 4"
   ]
  },
  {
   "cell_type": "code",
   "execution_count": 193,
   "id": "5cd8d127-22cd-40a4-b8d0-ec98510cdaa7",
   "metadata": {},
   "outputs": [
    {
     "name": "stdout",
     "output_type": "stream",
     "text": [
      "24216801\n"
     ]
    }
   ],
   "source": [
    "maxder=3.0271\n",
    "n=1\n",
    "h=(b-a)/n\n",
    "R=maxder*(b-a)*h/2\n",
    "while R>=epsilon:\n",
    "    n+=1\n",
    "    h=(b-a)/n\n",
    "    R=maxder*(b-a)*h/2\n",
    "print(n)"
   ]
  },
  {
   "cell_type": "code",
   "execution_count": 194,
   "id": "ce1e2b53-7c33-41c3-aaee-f2fd8320660b",
   "metadata": {},
   "outputs": [],
   "source": [
    "def lp(a, b, h, f):\n",
    "    xses=np.arange(a, b, h)\n",
    "    return h*sum(f(xses))"
   ]
  },
  {
   "cell_type": "code",
   "execution_count": 197,
   "id": "d0a46a63-9cb4-4ca2-a6eb-94f597b8b324",
   "metadata": {},
   "outputs": [
    {
     "name": "stdout",
     "output_type": "stream",
     "text": [
      "1.8577722381552784\n"
     ]
    }
   ],
   "source": [
    "print(lp(a, b, h, f))"
   ]
  },
  {
   "cell_type": "markdown",
   "id": "bcd41bf9-e5a0-470b-9d18-91d73a9e99e8",
   "metadata": {},
   "source": [
    "***б) процедуру-функцию, вычисляющую  интеграл по составной квадратурной формуле  из  индивидуального варианта ${I^h}$ с заданным шагом ${h}$.***"
   ]
  },
  {
   "cell_type": "markdown",
   "id": "00adc90e-f57e-454a-8b62-169de9fdfed5",
   "metadata": {},
   "source": [
    "***Формула Милна***"
   ]
  },
  {
   "cell_type": "markdown",
   "id": "e404a2eb-c88f-403f-8a61-f26e6e27a965",
   "metadata": {},
   "source": [
    "${f^{''}(x)=2cosx-xsinx}$"
   ]
  },
  {
   "cell_type": "markdown",
   "id": "edfde29d-4904-46a4-96e2-933518e707b2",
   "metadata": {},
   "source": [
    "${f^{'''}(x)=-3sinx-xcosx}$"
   ]
  },
  {
   "cell_type": "markdown",
   "id": "b3ef4fd1-0116-4e1f-ae05-f7ecea0110a0",
   "metadata": {},
   "source": [
    "${f^{(4)}(x)=xsinx-4cosx}$"
   ]
  },
  {
   "cell_type": "markdown",
   "id": "142b5e08-a0c5-4d3a-82b1-5e6e815065d6",
   "metadata": {},
   "source": [
    "${f^{(5)}(x)=5sinx+xcosx}$"
   ]
  },
  {
   "cell_type": "markdown",
   "id": "133d1132-b7b8-4de8-a3ad-10e82bd25db6",
   "metadata": {},
   "source": [
    "${f^{(6)}(x)=6cosx-xsinx}$"
   ]
  },
  {
   "cell_type": "markdown",
   "id": "8dbcb530-9a7e-47ff-ae37-91754c92c5b6",
   "metadata": {},
   "source": [
    "${M_6=6.59638}$"
   ]
  },
  {
   "cell_type": "code",
   "execution_count": 207,
   "id": "298534e1-3e62-4453-b7ab-5f6f2b14c3b0",
   "metadata": {},
   "outputs": [],
   "source": [
    "epsilon=10**(-12)"
   ]
  },
  {
   "cell_type": "code",
   "execution_count": 209,
   "id": "3cf4390c-b083-45fc-9b18-09952d98fed4",
   "metadata": {},
   "outputs": [],
   "source": [
    "maxder=6.59638\n",
    "n=1\n",
    "h=(b-a)/n\n",
    "R=maxder*(b-a)*(h**6)/1935360\n",
    "while R>=epsilon:\n",
    "    n+=1\n",
    "    h=(b-a)/n\n",
    "    R=maxder*(b-a)*(h**6)/1935360"
   ]
  },
  {
   "cell_type": "code",
   "execution_count": 211,
   "id": "9fc534c1-835c-41f9-a366-17f705e42e95",
   "metadata": {},
   "outputs": [],
   "source": [
    "def miln(a, b, h, f):\n",
    "    s=0\n",
    "    xses=np.arange(a, b+h, h)\n",
    "    for i in range(1,len(xses)):\n",
    "        s+=7*f(xses[i-1])+32*f(xses[i-1]+h/4)+12*f((xses[i-1]+xses[i])/2)+32*f(xses[i]-h/4)+7*f(xses[i])\n",
    "    return h*s/90"
   ]
  },
  {
   "cell_type": "code",
   "execution_count": 213,
   "id": "8cb91110-deab-4303-b140-8912af27b615",
   "metadata": {},
   "outputs": [
    {
     "name": "stdout",
     "output_type": "stream",
     "text": [
      "1.8577719881462824\n"
     ]
    }
   ],
   "source": [
    "print(miln(a, b, h, f))"
   ]
  },
  {
   "cell_type": "markdown",
   "id": "7001ee6e-9484-4f10-98aa-e919e5271f87",
   "metadata": {},
   "source": [
    "***в) подпрограмму, вычисляющую значение интеграла с заданной точностью ${\\epsilon}$;  оценку погрешности производить на основе правила Рунге.***"
   ]
  },
  {
   "cell_type": "markdown",
   "id": "6b2ee7f2-4572-4f32-8b40-3483c60b4bb9",
   "metadata": {},
   "source": [
    "***Правило Рунге: ${R^{\\frac h 2}=\\frac {I^{\\frac h 2}-I^h}{2^p-1}}$***"
   ]
  },
  {
   "cell_type": "markdown",
   "id": "5af7ae80-a517-4bb0-bdab-0b8d51907932",
   "metadata": {},
   "source": [
    "***Уточнение по Рунге: ${I^h=I^{\\frac h 2}+\\frac {I^{\\frac h 2}-I^h}{2^p-1}}$***"
   ]
  },
  {
   "cell_type": "code",
   "execution_count": 218,
   "id": "8dd58943-fb76-4f66-8574-fdcce10d5581",
   "metadata": {},
   "outputs": [
    {
     "name": "stdout",
     "output_type": "stream",
     "text": [
      "4194304\n"
     ]
    }
   ],
   "source": [
    "epsilon=10**(-6)\n",
    "n=2\n",
    "h=(b-a)/n\n",
    "h1=lp(a, b, h, f)\n",
    "h2=lp(a, b, h/2, f)\n",
    "R=(h2-h1)/(2-1)\n",
    "\n",
    "while abs(R)>=epsilon:\n",
    "    n*=2\n",
    "    h=(b-a)/n\n",
    "    h1=h2\n",
    "    h2=lp(a, b, h/2, f)\n",
    "    R=(h2-h1)/(2-1)\n",
    "print(n)"
   ]
  },
  {
   "cell_type": "code",
   "execution_count": 219,
   "id": "1343bf31-d9fe-4439-8c0e-8204fd825cea",
   "metadata": {},
   "outputs": [
    {
     "name": "stdout",
     "output_type": "stream",
     "text": [
      "Значение интеграла равно 1.85777343163251\n",
      "Погрешность равна 1.4434859907375142e-06\n"
     ]
    }
   ],
   "source": [
    "print(f'Значение интеграла равно {lp(a, b, h, f)}')\n",
    "print(f'Погрешность равна {abs(accurate-lp(a, b, h, f))}')"
   ]
  },
  {
   "cell_type": "code",
   "execution_count": 221,
   "id": "2dadc077-0feb-40f0-9d1e-db8e7cbc3dc0",
   "metadata": {},
   "outputs": [
    {
     "name": "stdout",
     "output_type": "stream",
     "text": [
      "64\n"
     ]
    }
   ],
   "source": [
    "epsilon=10**(-13)\n",
    "n=2\n",
    "h=(b-a)/n\n",
    "h1=miln(a, b, h, f)\n",
    "h2=miln(a, b, h/2, f)\n",
    "R=(h2-h1)/(2**6-1)\n",
    "while abs(R)>=epsilon:\n",
    "    n*=2\n",
    "    h=(b-a)/n\n",
    "    h1=h2\n",
    "    h2=miln(a, b, h/2, f)\n",
    "    R=(h2-h1)/(2**6-1)\n",
    "print(n)"
   ]
  },
  {
   "cell_type": "code",
   "execution_count": 224,
   "id": "ab6314fe-5585-421b-89e6-4b77f4e60410",
   "metadata": {},
   "outputs": [
    {
     "name": "stdout",
     "output_type": "stream",
     "text": [
      "Значение интеграла равно 1.8577719881463217\n",
      "Погрешность равна 1.9761969838327786e-13\n"
     ]
    }
   ],
   "source": [
    "print(f'Значение интеграла равно {miln(a, b, h, f)}')\n",
    "print(f'Погрешность равна {abs(accurate-miln(a, b, h, f))}')"
   ]
  },
  {
   "cell_type": "markdown",
   "id": "e2bd161e-72f7-4bad-adc5-e5b06552f26f",
   "metadata": {},
   "source": [
    "***г) вычисление уточненного значение интеграла ${I^{уточн}}$.***"
   ]
  },
  {
   "cell_type": "markdown",
   "id": "649488bd-e54e-47a8-b288-5b47f446d480",
   "metadata": {},
   "source": [
    "***Левые прямоугольники***"
   ]
  },
  {
   "cell_type": "code",
   "execution_count": 228,
   "id": "24828f3c-ecca-46b5-bdef-f531cb7605da",
   "metadata": {},
   "outputs": [
    {
     "name": "stdout",
     "output_type": "stream",
     "text": [
      "1.8577727098900954 1.8577723490174236\n"
     ]
    }
   ],
   "source": [
    "n=8388608\n",
    "h=(b-a)/n\n",
    "Ih=lp(a, b, h, f)\n",
    "Ih2=lp(a, b, h/2, f)\n",
    "p=1\n",
    "print(Ih, Ih2)"
   ]
  },
  {
   "cell_type": "code",
   "execution_count": 229,
   "id": "c121bc9a-e93d-48e6-b401-2872bb7c8292",
   "metadata": {},
   "outputs": [
    {
     "name": "stdout",
     "output_type": "stream",
     "text": [
      "7.21743576015399e-07 3.608709042701719e-07\n"
     ]
    }
   ],
   "source": [
    "Rh=abs(Ih-accurate)\n",
    "Rh2=abs(Ih2-accurate)\n",
    "print(Rh, Rh2)"
   ]
  },
  {
   "cell_type": "code",
   "execution_count": 230,
   "id": "e17950bb-8651-4f33-8830-29386aa7d8af",
   "metadata": {},
   "outputs": [
    {
     "name": "stdout",
     "output_type": "stream",
     "text": [
      "1.8577719881447519\n"
     ]
    }
   ],
   "source": [
    "Iut=Ih2+(Ih2-Ih)/(2**p-1)\n",
    "print(Iut)"
   ]
  },
  {
   "cell_type": "code",
   "execution_count": 234,
   "id": "2e5d2bf0-02f8-4a14-96d4-b1f3d0db1445",
   "metadata": {},
   "outputs": [
    {
     "name": "stdout",
     "output_type": "stream",
     "text": [
      "1.7674750552032492e-12\n"
     ]
    }
   ],
   "source": [
    "Rut=abs(accurate-Iut)\n",
    "print(Rut)"
   ]
  },
  {
   "cell_type": "code",
   "execution_count": 236,
   "id": "e8ee3275-2035-472f-8c80-5708a06b334b",
   "metadata": {},
   "outputs": [
    {
     "name": "stdout",
     "output_type": "stream",
     "text": [
      "1.8577719881464239 1.857771988146519\n"
     ]
    }
   ],
   "source": [
    "n=72\n",
    "h=(b-a)/n\n",
    "Ih=miln(a, b, h, f)\n",
    "Ih2=miln(a, b, h/2, f)\n",
    "p=6\n",
    "print(Ih, Ih2)"
   ]
  },
  {
   "cell_type": "code",
   "execution_count": 238,
   "id": "57e4a23f-2d82-4182-9c2a-dbaa323b449e",
   "metadata": {},
   "outputs": [],
   "source": [
    "Rh=abs(Ih-accurate)\n",
    "Rh2=abs(Ih2-accurate)"
   ]
  },
  {
   "cell_type": "code",
   "execution_count": 240,
   "id": "027d2fb9-2045-4b5a-b05d-80774bb61193",
   "metadata": {},
   "outputs": [
    {
     "name": "stdout",
     "output_type": "stream",
     "text": [
      "9.547918011776346e-14 4.440892098500626e-16\n"
     ]
    }
   ],
   "source": [
    "print(Rh, Rh2)"
   ]
  },
  {
   "cell_type": "code",
   "execution_count": 242,
   "id": "7812f270-2ec0-4ade-956b-1da5d29c0b5f",
   "metadata": {},
   "outputs": [
    {
     "name": "stdout",
     "output_type": "stream",
     "text": [
      "1.8577719881465204\n"
     ]
    }
   ],
   "source": [
    "Iut=Ih2+(Ih2-Ih)/(2**p-1)\n",
    "print(Iut)"
   ]
  },
  {
   "cell_type": "code",
   "execution_count": 244,
   "id": "1e8440de-5def-4d36-8b77-0e19fe7bcad3",
   "metadata": {},
   "outputs": [
    {
     "name": "stdout",
     "output_type": "stream",
     "text": [
      "1.1102230246251565e-15\n"
     ]
    }
   ],
   "source": [
    "Rut=abs(accurate-Iut)\n",
    "print(Rut)"
   ]
  },
  {
   "attachments": {
    "a062679a-c9fa-4b51-a89b-13dcd164b13b.png": {
     "image/png": "[encoded data removed]"
    }
   },
   "cell_type": "markdown",
   "id": "838a2af7-978c-40be-80d2-65d963d55e85",
   "metadata": {},
   "source": [
    "![image.png](attachment:a062679a-c9fa-4b51-a89b-13dcd164b13b.png)"
   ]
  },
  {
   "cell_type": "markdown",
   "id": "ccc91f15-6f6e-4c4f-946a-cb28707238a2",
   "metadata": {},
   "source": [
    "## Задача 6.2. ***Вычислить интеграл от многочлена  ${I=∫_a^b P(x)dx}$ по формуле Гаусса при числе узлов  ${N=2, 3, 4,5}$.  Вычислить аналитически тот же интеграл. Найти абсолютные  погрешности  каждого результата. Объяснить полученные результаты. Отрезок интегрирования взять из задачи 6.1.***"
   ]
  },
  {
   "cell_type": "code",
   "execution_count": 248,
   "id": "bc892775-15e0-49f3-9ed6-cff518649a59",
   "metadata": {},
   "outputs": [],
   "source": [
    "a, b=0, 4\n",
    "c=np.array([0.4, 0.3, 0.2, 0.1, 2, 0.8, 6.5, -4.4, 6.1, 0, 0])\n",
    "def P(x):\n",
    "    global c\n",
    "    s=0\n",
    "    for i in range(len(c)):\n",
    "        s+=c[i]*x**i\n",
    "    return s"
   ]
  },
  {
   "cell_type": "code",
   "execution_count": 250,
   "id": "337bd6d6-d3b4-4426-ae88-63e79cc3c90c",
   "metadata": {},
   "outputs": [],
   "source": [
    "# Узлы и веса для N = 2\n",
    "t2 = np.array([-1/np.sqrt(3), 1/np.sqrt(3)])\n",
    "a2 = np.array([1, 1])\n",
    "\n",
    "# Узлы и веса для N = 3\n",
    "t3 = np.array([-np.sqrt(3/5), 0, np.sqrt(3/5)])\n",
    "a3 = np.array([5/9, 8/9, 5/9])\n",
    "\n",
    "# Узлы и веса для N = 4\n",
    "t4 = np.array([-np.sqrt((3/7) + (2/7)*np.sqrt(6/5)), -np.sqrt((3/7) - (2/7)*np.sqrt(6/5)),\n",
    "np.sqrt((3/7) - (2/7)*np.sqrt(6/5)), np.sqrt((3/7) + (2/7)*np.sqrt(6/5))])\n",
    "a4 = np.array([(18 - np.sqrt(30))/36, (18 + np.sqrt(30))/36,\n",
    "(18 + np.sqrt(30))/36, (18 - np.sqrt(30))/36])\n",
    "\n",
    "# Узлы и веса для N = 5\n",
    "t5 = np.array([-1/3 * np.sqrt(5 + 2*np.sqrt(10/7)), -1/3 * np.sqrt(5 - 2*np.sqrt(10/7)),\n",
    "0, 1/3 * np.sqrt(5 - 2*np.sqrt(10/7)), 1/3 * np.sqrt(5 + 2*np.sqrt(10/7))])\n",
    "a5 = np.array([(322 - 13*np.sqrt(70))/900, (322 + 13*np.sqrt(70))/900,\n",
    "128/225, (322 + 13*np.sqrt(70))/900, (322 - 13*np.sqrt(70))/900])"
   ]
  },
  {
   "cell_type": "code",
   "execution_count": 252,
   "id": "c56c6b38-e91f-41be-89b2-daa4b1a6f456",
   "metadata": {},
   "outputs": [],
   "source": [
    "def gauss(a, b, uzel, ves, f):\n",
    "    s=0\n",
    "    for i in range(len(uzel)):\n",
    "        s+=ves[i]*f((a+b)/2+(b-a)/2*uzel[i])\n",
    "    return (b-a)*s/2"
   ]
  },
  {
   "cell_type": "code",
   "execution_count": 254,
   "id": "c90f3e56-4932-45f8-a007-15c0bd914a07",
   "metadata": {},
   "outputs": [
    {
     "name": "stdout",
     "output_type": "stream",
     "text": [
      "Точное значение интегралла равно: 157814.69\n",
      "Значение по формуле Гаусса при N=2: 106049.2345679012 Погрешность: 32.80141755631164 %\n",
      "Значение по формуле Гаусса при N=3: 153895.10613333332 Погрешность: 2.483662241244261 %\n",
      "Значение по формуле Гаусса при N=4: 157778.43178231284 Погрешность: 0.022975185445135427 %\n",
      "Значение по формуле Гаусса при N=5: 157814.69206349197 Погрешность: 1.3075411191324562e-06 %\n"
     ]
    }
   ],
   "source": [
    "I2=gauss(a, b, t2, a2, P)\n",
    "I3=gauss(a, b, t3, a3, P)\n",
    "I4=gauss(a, b, t4, a4, P)\n",
    "I5=gauss(a, b, t5, a5, P)\n",
    "acc=157814.69\n",
    "print('Точное значение интегралла равно:', acc)\n",
    "print('Значение по формуле Гаусса при N=2:', I2, 'Погрешность:', abs(157814.69 - I2)/acc*100, '%')\n",
    "print('Значение по формуле Гаусса при N=3:', I3, 'Погрешность:', abs(157814.69 - I3)/acc*100, '%')\n",
    "print('Значение по формуле Гаусса при N=4:', I4, 'Погрешность:', abs(157814.69 - I4)/acc*100, '%')\n",
    "print('Значение по формуле Гаусса при N=5:', I5, 'Погрешность:', abs(157814.69 - I5)/acc*100, '%')"
   ]
  },
  {
   "cell_type": "code",
   "execution_count": null,
   "id": "45f3eb23-5899-4a08-ab36-ff0220c56f39",
   "metadata": {},
   "outputs": [],
   "source": []
  }
 ],
 "metadata": {
  "kernelspec": {
   "display_name": "Python 3 (ipykernel)",
   "language": "python",
   "name": "python3"
  },
  "language_info": {
   "codemirror_mode": {
    "name": "ipython",
    "version": 3
   },
   "file_extension": ".py",
   "mimetype": "text/x-python",
   "name": "python",
   "nbconvert_exporter": "python",
   "pygments_lexer": "ipython3",
   "version": "3.12.4"
  }
 },
 "nbformat": 4,
 "nbformat_minor": 5
}
